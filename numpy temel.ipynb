{
  "nbformat": 4,
  "nbformat_minor": 0,
  "metadata": {
    "colab": {
      "provenance": [],
      "authorship_tag": "ABX9TyOi+2TT1+qkx+Ok7YorOkpM",
      "include_colab_link": true
    },
    "kernelspec": {
      "name": "python3",
      "display_name": "Python 3"
    },
    "language_info": {
      "name": "python"
    }
  },
  "cells": [
    {
      "cell_type": "markdown",
      "metadata": {
        "id": "view-in-github",
        "colab_type": "text"
      },
      "source": [
        "<a href=\"https://colab.research.google.com/github/ozdemirdemiroz/kendi-kendine/blob/main/numpy%20temel.ipynb\" target=\"_parent\"><img src=\"https://colab.research.google.com/assets/colab-badge.svg\" alt=\"Open In Colab\"/></a>"
      ]
    },
    {
      "cell_type": "code",
      "execution_count": 27,
      "metadata": {
        "colab": {
          "base_uri": "https://localhost:8080/"
        },
        "id": "j9IdLHXLVFaD",
        "outputId": "358d5c2e-bb48-4afa-d72d-9bb1e5ace655"
      },
      "outputs": [
        {
          "output_type": "stream",
          "name": "stdout",
          "text": [
            "[ 2  4  6  8 10]\n",
            "[10 15 20 25 30 35 40 45]\n",
            "[  0.  10.  20.  30.  40.  50.  60.  70.  80.  90. 100.]\n",
            "[ 0.          3.33333333  6.66666667 10.        ]\n",
            "[[ 0  4  8]\n",
            " [ 0  8 16]]\n",
            "[[ 0  4  8]\n",
            " [ 0  8 16]]\n"
          ]
        }
      ],
      "source": [
        "import numpy as np\n",
        "arr_1D=np.array([2,4,6,8,10]) #1D array\n",
        "print(arr_1D)\n",
        "\n",
        "arr_1D_arrange= np.arange(10,50,5) #1D array arange kullanarak, (başlangıç , bitiş , kaçar kaçar)\n",
        "print(arr_1D_arrange)\n",
        "\n",
        "arr_1D_linspace_1=np.linspace(0,100,11) #1D array linspace kullanarak , eşit aralıkla böler (başlangıç ,bitiş ,kaç parca)\n",
        "print(arr_1D_linspace_1)\n",
        "arr_1D_linspace_2=np.linspace(0,10,4)\n",
        "print(arr_1D_linspace_2)\n",
        "\n",
        "arr_2D_1=np.arange(0,10,4)\n",
        "arr_2D_2=np.arange(0,20,8)\n",
        "arr_2D=np.vstack((arr_2D_1,arr_2D_2)) #2 tane 1D array oluşturup , vstack ile alt alta birleştirdik.\n",
        "print(arr_2D)\n",
        "\n",
        "dosya=open(\"arr_deneme\",\"wb\") #kaydetmek için yazma modunda bir dosya oluşturduk \n",
        "np.save(dosya,arr_2D)\n",
        "dosya.close\n",
        "\n",
        "dosya_2= open (\"arr_deneme\",\"rb\") #dosyayı geri çağırmak için \n",
        "arr=np.load(dosya_2)\n",
        "print(arr)"
      ]
    },
    {
      "cell_type": "code",
      "source": [
        "zeros=np.zeros((3,4),dtype=int) #sıfırlardan bir matris oluşturma , normalde data tipi float , int olarak değiştirdik \n",
        "print(zeros)"
      ],
      "metadata": {
        "colab": {
          "base_uri": "https://localhost:8080/"
        },
        "id": "m3QExLo-hj9M",
        "outputId": "cb7db8a6-556a-4860-bcb8-b46907eb5b24"
      },
      "execution_count": 31,
      "outputs": [
        {
          "output_type": "stream",
          "name": "stdout",
          "text": [
            "[[0 0 0 0]\n",
            " [0 0 0 0]\n",
            " [0 0 0 0]]\n"
          ]
        }
      ]
    },
    {
      "cell_type": "code",
      "source": [
        "zeros[0,1]=5  #matrisin ilk satırının ikinci elemanını 5 olarak değiştiridik \n",
        "print(zeros)"
      ],
      "metadata": {
        "colab": {
          "base_uri": "https://localhost:8080/"
        },
        "id": "YYSRMiuWiTgs",
        "outputId": "c26a4625-877f-4c8c-ece4-60015020c95a"
      },
      "execution_count": 32,
      "outputs": [
        {
          "output_type": "stream",
          "name": "stdout",
          "text": [
            "[[0 5 0 0]\n",
            " [0 0 0 0]\n",
            " [0 0 0 0]]\n"
          ]
        }
      ]
    },
    {
      "cell_type": "code",
      "source": [
        "birler=np.ones((2,2))\n",
        "print(birler)"
      ],
      "metadata": {
        "colab": {
          "base_uri": "https://localhost:8080/"
        },
        "id": "lq7vx7jyizMz",
        "outputId": "65ae598f-80db-4a6c-f390-9dd647ca374e"
      },
      "execution_count": 34,
      "outputs": [
        {
          "output_type": "stream",
          "name": "stdout",
          "text": [
            "[[1. 1.]\n",
            " [1. 1.]]\n"
          ]
        }
      ]
    },
    {
      "cell_type": "code",
      "source": [
        "satir=zeros[0,:] #belirli bir satırı stünü veya elemanı seçmek . array[satır , stun ]\n",
        "print(satir)"
      ],
      "metadata": {
        "colab": {
          "base_uri": "https://localhost:8080/"
        },
        "id": "Xx2PrlOjjlc2",
        "outputId": "fc4059be-b890-4869-85d3-41b7e5f27762"
      },
      "execution_count": 39,
      "outputs": [
        {
          "output_type": "stream",
          "name": "stdout",
          "text": [
            "[0 5 0 0]\n"
          ]
        }
      ]
    },
    {
      "cell_type": "code",
      "source": [
        "for x in np.nditer(arr_2D):  #array içinde iterasyon \n",
        "  print(x,end=' ')   # end=' ' yazınca yan yana yazıyor\n",
        "  "
      ],
      "metadata": {
        "colab": {
          "base_uri": "https://localhost:8080/"
        },
        "id": "gBjKrnMDml25",
        "outputId": "1db3f007-27a5-4dc1-ec0f-6cda60eb5987"
      },
      "execution_count": 41,
      "outputs": [
        {
          "output_type": "stream",
          "name": "stdout",
          "text": [
            "0 4 8 0 8 16 "
          ]
        }
      ]
    }
  ]
}