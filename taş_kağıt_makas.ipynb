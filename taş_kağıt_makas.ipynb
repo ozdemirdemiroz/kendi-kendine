{
  "nbformat": 4,
  "nbformat_minor": 0,
  "metadata": {
    "colab": {
      "provenance": [],
      "authorship_tag": "ABX9TyOVr3dPUs8HO8in470LBszM",
      "include_colab_link": true
    },
    "kernelspec": {
      "name": "python3",
      "display_name": "Python 3"
    },
    "language_info": {
      "name": "python"
    }
  },
  "cells": [
    {
      "cell_type": "markdown",
      "metadata": {
        "id": "view-in-github",
        "colab_type": "text"
      },
      "source": [
        "<a href=\"https://colab.research.google.com/github/ozdemirdemiroz/kendi-kendine/blob/main/ta%C5%9F_ka%C4%9F%C4%B1t_makas.ipynb\" target=\"_parent\"><img src=\"https://colab.research.google.com/assets/colab-badge.svg\" alt=\"Open In Colab\"/></a>"
      ]
    },
    {
      "cell_type": "code",
      "source": [
        "import random as rnd"
      ],
      "metadata": {
        "id": "-I2y2TMtzK4E"
      },
      "execution_count": 1,
      "outputs": []
    },
    {
      "cell_type": "code",
      "execution_count": 15,
      "metadata": {
        "colab": {
          "base_uri": "https://localhost:8080/",
          "height": 432
        },
        "id": "6PdhlSS7vUAz",
        "outputId": "a86939f2-5ff6-4bd5-d46a-a11b5bcbb01b"
      },
      "outputs": [
        {
          "metadata": {
            "tags": null
          },
          "name": "stdout",
          "output_type": "stream",
          "text": [
            "bilgisayar : KAĞIT\n",
            "oyuncu  :  TAŞ\n",
            "bilgisayar yendi , bilgisayar:1  oyuncu : 0\n"
          ]
        },
        {
          "output_type": "error",
          "ename": "KeyboardInterrupt",
          "evalue": "ignored",
          "traceback": [
            "\u001b[0;31m---------------------------------------------------------------------------\u001b[0m",
            "\u001b[0;31mKeyboardInterrupt\u001b[0m                         Traceback (most recent call last)",
            "\u001b[0;32m<ipython-input-15-5249806de86b>\u001b[0m in \u001b[0;36m<module>\u001b[0;34m\u001b[0m\n\u001b[1;32m     15\u001b[0m \u001b[0;34m\u001b[0m\u001b[0m\n\u001b[1;32m     16\u001b[0m   \u001b[0;32mwhile\u001b[0m \u001b[0;32mTrue\u001b[0m\u001b[0;34m:\u001b[0m\u001b[0;34m\u001b[0m\u001b[0;34m\u001b[0m\u001b[0m\n\u001b[0;32m---> 17\u001b[0;31m     \u001b[0msecim\u001b[0m\u001b[0;34m=\u001b[0m\u001b[0minput\u001b[0m\u001b[0;34m(\u001b[0m\u001b[0;34m\"seçiminizi yapnız TAŞ , KAĞIT , MAKAS :\"\u001b[0m\u001b[0;34m)\u001b[0m\u001b[0;34m.\u001b[0m\u001b[0mupper\u001b[0m\u001b[0;34m(\u001b[0m\u001b[0;34m)\u001b[0m\u001b[0;34m\u001b[0m\u001b[0;34m\u001b[0m\u001b[0m\n\u001b[0m\u001b[1;32m     18\u001b[0m     \u001b[0moyuncu_seçimi\u001b[0m\u001b[0;34m=\u001b[0m\u001b[0msecim\u001b[0m\u001b[0;34m.\u001b[0m\u001b[0mupper\u001b[0m\u001b[0;34m(\u001b[0m\u001b[0;34m)\u001b[0m\u001b[0;34m\u001b[0m\u001b[0;34m\u001b[0m\u001b[0m\n\u001b[1;32m     19\u001b[0m     \u001b[0;32mif\u001b[0m \u001b[0moyuncu_seçimi\u001b[0m\u001b[0;34m==\u001b[0m\u001b[0;34m\"TAŞ\"\u001b[0m \u001b[0;32mor\u001b[0m \u001b[0moyuncu_seçimi\u001b[0m\u001b[0;34m==\u001b[0m\u001b[0;34m\"KAĞIT\"\u001b[0m \u001b[0;32mor\u001b[0m \u001b[0moyuncu_seçimi\u001b[0m\u001b[0;34m==\u001b[0m\u001b[0;34m\"MAKAS\"\u001b[0m\u001b[0;34m:\u001b[0m\u001b[0;34m\u001b[0m\u001b[0;34m\u001b[0m\u001b[0m\n",
            "\u001b[0;32m/usr/local/lib/python3.8/dist-packages/ipykernel/kernelbase.py\u001b[0m in \u001b[0;36mraw_input\u001b[0;34m(self, prompt)\u001b[0m\n\u001b[1;32m    858\u001b[0m                 \u001b[0;34m\"raw_input was called, but this frontend does not support input requests.\"\u001b[0m\u001b[0;34m\u001b[0m\u001b[0;34m\u001b[0m\u001b[0m\n\u001b[1;32m    859\u001b[0m             )\n\u001b[0;32m--> 860\u001b[0;31m         return self._input_request(str(prompt),\n\u001b[0m\u001b[1;32m    861\u001b[0m             \u001b[0mself\u001b[0m\u001b[0;34m.\u001b[0m\u001b[0m_parent_ident\u001b[0m\u001b[0;34m,\u001b[0m\u001b[0;34m\u001b[0m\u001b[0;34m\u001b[0m\u001b[0m\n\u001b[1;32m    862\u001b[0m             \u001b[0mself\u001b[0m\u001b[0;34m.\u001b[0m\u001b[0m_parent_header\u001b[0m\u001b[0;34m,\u001b[0m\u001b[0;34m\u001b[0m\u001b[0;34m\u001b[0m\u001b[0m\n",
            "\u001b[0;32m/usr/local/lib/python3.8/dist-packages/ipykernel/kernelbase.py\u001b[0m in \u001b[0;36m_input_request\u001b[0;34m(self, prompt, ident, parent, password)\u001b[0m\n\u001b[1;32m    902\u001b[0m             \u001b[0;32mexcept\u001b[0m \u001b[0mKeyboardInterrupt\u001b[0m\u001b[0;34m:\u001b[0m\u001b[0;34m\u001b[0m\u001b[0;34m\u001b[0m\u001b[0m\n\u001b[1;32m    903\u001b[0m                 \u001b[0;31m# re-raise KeyboardInterrupt, to truncate traceback\u001b[0m\u001b[0;34m\u001b[0m\u001b[0;34m\u001b[0m\u001b[0;34m\u001b[0m\u001b[0m\n\u001b[0;32m--> 904\u001b[0;31m                 \u001b[0;32mraise\u001b[0m \u001b[0mKeyboardInterrupt\u001b[0m\u001b[0;34m(\u001b[0m\u001b[0;34m\"Interrupted by user\"\u001b[0m\u001b[0;34m)\u001b[0m \u001b[0;32mfrom\u001b[0m \u001b[0;32mNone\u001b[0m\u001b[0;34m\u001b[0m\u001b[0;34m\u001b[0m\u001b[0m\n\u001b[0m\u001b[1;32m    905\u001b[0m             \u001b[0;32mexcept\u001b[0m \u001b[0mException\u001b[0m \u001b[0;32mas\u001b[0m \u001b[0me\u001b[0m\u001b[0;34m:\u001b[0m\u001b[0;34m\u001b[0m\u001b[0;34m\u001b[0m\u001b[0m\n\u001b[1;32m    906\u001b[0m                 \u001b[0mself\u001b[0m\u001b[0;34m.\u001b[0m\u001b[0mlog\u001b[0m\u001b[0;34m.\u001b[0m\u001b[0mwarning\u001b[0m\u001b[0;34m(\u001b[0m\u001b[0;34m\"Invalid Message:\"\u001b[0m\u001b[0;34m,\u001b[0m \u001b[0mexc_info\u001b[0m\u001b[0;34m=\u001b[0m\u001b[0;32mTrue\u001b[0m\u001b[0;34m)\u001b[0m\u001b[0;34m\u001b[0m\u001b[0;34m\u001b[0m\u001b[0m\n",
            "\u001b[0;31mKeyboardInterrupt\u001b[0m: Interrupted by user"
          ]
        }
      ],
      "source": [
        "\n",
        "while True:\n",
        "  try:\n",
        "    oyun_sayısı=int(input(\"taş kağıt makas oyununa hoş geldiniz ,  kaç el oynamak istiyorsunuz ? lütfen rakam giriniz : \"))\n",
        "  except ValueError:\n",
        "    print(\"lütfen rakam giriniz :\")\n",
        "    continue\n",
        "  if type(oyun_sayısı)==int:\n",
        "    break\n",
        "\n",
        "bilgisayar_skoru=0\n",
        "oyuncu_skoru=0\n",
        "liste=[\"TAŞ\",\"KAĞIT\",\"MAKAS\"]\n",
        "\n",
        "while oyun_sayısı>0:\n",
        "\n",
        "  while True:\n",
        "    secim=input(\"seçiminizi yapnız TAŞ , KAĞIT , MAKAS :\").upper()\n",
        "    oyuncu_seçimi=secim.upper()\n",
        "    if oyuncu_seçimi==\"TAŞ\" or oyuncu_seçimi==\"KAĞIT\" or oyuncu_seçimi==\"MAKAS\":\n",
        "      break\n",
        "    else:\n",
        "      print('yanşış seçim')\n",
        "      continue\n",
        "\n",
        "  \n",
        "  bilgisayar_seçimi=rnd.choice(liste)\n",
        "\n",
        "  if oyuncu_seçimi==bilgisayar_seçimi:\n",
        "    print(\"bilgisayar :\",bilgisayar_seçimi)\n",
        "    print(\"oyuncu  : \",oyuncu_seçimi)\n",
        "    print(\"berabere\")\n",
        "  elif oyuncu_seçimi==\"TAŞ\":\n",
        "    print(\"bilgisayar :\",bilgisayar_seçimi)\n",
        "    print(\"oyuncu  : \",oyuncu_seçimi)\n",
        "\n",
        "    if bilgisayar_seçimi==\"KAĞIT\":\n",
        "      bilgisayar_skoru+=1\n",
        "      print(f\"bilgisayar yendi , bilgisayar:{bilgisayar_skoru}  oyuncu : {oyuncu_skoru}\")\n",
        "      \n",
        "    else:\n",
        "      oyuncu_skoru+=1\n",
        "      print(f\"oyuncu yendi , bilgisayar:{bilgisayar_skoru}  oyuncu : {oyuncu_skoru}\")\n",
        "      \n",
        "\n",
        "  elif oyuncu_seçimi==\"KAĞIT\":\n",
        "    print(\"bilgisayar :\",bilgisayar_seçimi)\n",
        "    print(\"oyuncu  : \",oyuncu_seçimi)\n",
        "\n",
        "    if bilgisayar_seçimi==\"MAKAS\":\n",
        "      bilgisayar_skoru+=1\n",
        "      print(f\"bilgisayar yendi , bilgisayar:{bilgisayar_skoru}  oyuncu : {oyuncu_skoru}\")\n",
        "      \n",
        "    else:\n",
        "      oyuncu_skoru+=1\n",
        "      print(f\"oyuncu yendi , bilgisayar:{bilgisayar_skoru}  oyuncu : {oyuncu_skoru}\")\n",
        "      \n",
        "\n",
        "  elif oyuncu_seçimi==\"MAKAS\":\n",
        "    print(\"bilgisayar :\",bilgisayar_seçimi)\n",
        "    print(\"oyuncu  : \",oyuncu_seçimi)\n",
        "    if bilgisayar_seçimi==\"TAŞ\":\n",
        "      bilgisayar_skoru+=1\n",
        "      print(f\"bilgisayar yendi , bilgisayar:{bilgisayar_skoru}  oyuncu : {oyuncu_skoru}\")\n",
        "     \n",
        "    else:\n",
        "      oyuncu_skoru+=1\n",
        "      print(f\"oyuncu yendi , bilgisayar:{bilgisayar_skoru}  oyuncu : {oyuncu_skoru}\")\n",
        "      \n",
        "  \n",
        "  oyun_sayısı-=1\n",
        "\n",
        "print(f\"oyun sonu , bilgisayar:{bilgisayar_skoru}  oyuncu : {oyuncu_skoru}\")\n",
        "if bilgisayar_skoru==oyuncu_skoru:\n",
        "  print(\"Berabere\")\n",
        "elif bilgisayar_skoru>oyuncu_skoru:\n",
        "  print(\"bilgisayar kazandı\")\n",
        "else:\n",
        "  print(\"oyuncu kazandı\")\n"
      ]
    }
  ]
}