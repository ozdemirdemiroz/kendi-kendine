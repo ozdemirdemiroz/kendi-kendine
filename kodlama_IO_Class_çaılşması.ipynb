{
  "nbformat": 4,
  "nbformat_minor": 0,
  "metadata": {
    "colab": {
      "provenance": [],
      "authorship_tag": "ABX9TyMW5MuyJFGv/NKJEod27SHq",
      "include_colab_link": true
    },
    "kernelspec": {
      "name": "python3",
      "display_name": "Python 3"
    },
    "language_info": {
      "name": "python"
    }
  },
  "cells": [
    {
      "cell_type": "markdown",
      "metadata": {
        "id": "view-in-github",
        "colab_type": "text"
      },
      "source": [
        "<a href=\"https://colab.research.google.com/github/ozdemirdemiroz/kendi-kendine/blob/main/kodlama_IO_Class_%C3%A7a%C4%B1l%C5%9Fmas%C4%B1.ipynb\" target=\"_parent\"><img src=\"https://colab.research.google.com/assets/colab-badge.svg\" alt=\"Open In Colab\"/></a>"
      ]
    },
    {
      "cell_type": "code",
      "execution_count": 1,
      "metadata": {
        "id": "kJjGFWzSHJSA"
      },
      "outputs": [],
      "source": [
        "class Human():\n",
        "  def __init__(self,name): # built-in , constructor , initialize\n",
        "    self.name=name\n",
        "    print(\"bir human instance ı üretildi\")\n",
        "  def talk(self,sentence):\n",
        "    print(f\"{self.name} : {sentence}\")\n",
        "  def walk(self):\n",
        "    print(f\"{self.name} is walking..\")"
      ]
    },
    {
      "cell_type": "code",
      "source": [
        "#instance(örnek) oluşturuldu\n",
        "human1=Human(\"ozdemir\")\n",
        "human1.talk(\"merhaba\")\n",
        "human1.walk()"
      ],
      "metadata": {
        "colab": {
          "base_uri": "https://localhost:8080/"
        },
        "id": "erit1ZUzIZh2",
        "outputId": "01f77632-4a0d-4ac5-c5be-5a4f3a0762fe"
      },
      "execution_count": 2,
      "outputs": [
        {
          "output_type": "stream",
          "name": "stdout",
          "text": [
            "bir human instance ı üretildi\n",
            "ozdemir : merhaba\n",
            "ozdemir is walking..\n"
          ]
        }
      ]
    },
    {
      "cell_type": "code",
      "source": [
        "human2=Human(input(\"insanın ismi ? \"))\n",
        "human2.talk(\"merhaba\")\n",
        "human2.walk()"
      ],
      "metadata": {
        "colab": {
          "base_uri": "https://localhost:8080/"
        },
        "id": "NJlzcrm5Izlo",
        "outputId": "debef6f7-3f70-4072-c5cc-aac646789271"
      },
      "execution_count": 4,
      "outputs": [
        {
          "output_type": "stream",
          "name": "stdout",
          "text": [
            "insanın ismi ?Ali\n",
            "bir human instance ı üretildi\n",
            "Ali : merhaba\n",
            "Ali is walking..\n"
          ]
        }
      ]
    }
  ]
}