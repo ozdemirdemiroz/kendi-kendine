{
  "nbformat": 4,
  "nbformat_minor": 0,
  "metadata": {
    "colab": {
      "provenance": [],
      "authorship_tag": "ABX9TyOHv5BM1zMxMw4nm4AC/Xvv",
      "include_colab_link": true
    },
    "kernelspec": {
      "name": "python3",
      "display_name": "Python 3"
    },
    "language_info": {
      "name": "python"
    }
  },
  "cells": [
    {
      "cell_type": "markdown",
      "metadata": {
        "id": "view-in-github",
        "colab_type": "text"
      },
      "source": [
        "<a href=\"https://colab.research.google.com/github/ozdemirdemiroz/kendi-kendine/blob/main/calss_%26_objects.ipynb\" target=\"_parent\"><img src=\"https://colab.research.google.com/assets/colab-badge.svg\" alt=\"Open In Colab\"/></a>"
      ]
    },
    {
      "cell_type": "code",
      "execution_count": 1,
      "metadata": {
        "id": "cP1vMR5_lq9k"
      },
      "outputs": [],
      "source": [
        "class Araba:\n",
        "  def __init__(self,marka,model,yil,renk):\n",
        "    self.marka=marka\n",
        "    self.model=model\n",
        "    self.yil=yil\n",
        "    self.renk=renk"
      ]
    },
    {
      "cell_type": "code",
      "source": [
        "araba_1=Araba(\"honda\",\"civic\",2012,\"kırmızı\")\n",
        "araba_2=Araba(\"honda\",\"accord\",2008,\"beyaz\")\n",
        "araba_3=Araba(\"ford\",\"mustang\",1967,\"mavi\")\n",
        "araba_4=Araba(\"toyota\",\"corolla\",2001,\"siyah\")\n",
        "araba_5=Araba(\"opel\",\"corsa\",2001,\"gri\")\n",
        "\n",
        "araba_model=[araba_1.model,araba_2.model,araba_3.model,araba_4.model,araba_5.model,]\n",
        "\n",
        "\n",
        "print(araba_model)"
      ],
      "metadata": {
        "colab": {
          "base_uri": "https://localhost:8080/"
        },
        "id": "fd70OAnxn2aI",
        "outputId": "9d3dde87-8364-473f-806a-7e132f931dce"
      },
      "execution_count": 2,
      "outputs": [
        {
          "output_type": "stream",
          "name": "stdout",
          "text": [
            "['civic', 'accord', 'mustang', 'corolla', 'corsa']\n"
          ]
        }
      ]
    },
    {
      "cell_type": "code",
      "source": [
        "if True and False or True:\n",
        "  print(\"1234\")"
      ],
      "metadata": {
        "colab": {
          "base_uri": "https://localhost:8080/"
        },
        "id": "1u1hLa49ul8S",
        "outputId": "fa80297b-6601-487c-dbb3-50cfd1d92ea0"
      },
      "execution_count": null,
      "outputs": [
        {
          "output_type": "stream",
          "name": "stdout",
          "text": [
            "1234\n"
          ]
        }
      ]
    }
  ]
}