{
  "nbformat": 4,
  "nbformat_minor": 0,
  "metadata": {
    "colab": {
      "provenance": [],
      "authorship_tag": "ABX9TyPM2AK0Q48De7iQYRL+a391",
      "include_colab_link": true
    },
    "kernelspec": {
      "name": "python3",
      "display_name": "Python 3"
    },
    "language_info": {
      "name": "python"
    }
  },
  "cells": [
    {
      "cell_type": "markdown",
      "metadata": {
        "id": "view-in-github",
        "colab_type": "text"
      },
      "source": [
        "<a href=\"https://colab.research.google.com/github/ozdemirdemiroz/kendi-kendine/blob/main/her_saniye_s%C4%B1cakl%C4%B1k_artt%C4%B1r_azalt.ipynb\" target=\"_parent\"><img src=\"https://colab.research.google.com/assets/colab-badge.svg\" alt=\"Open In Colab\"/></a>"
      ]
    },
    {
      "cell_type": "code",
      "execution_count": null,
      "metadata": {
        "id": "-BE5rf2yMLMF"
      },
      "outputs": [],
      "source": [
        "import random\n",
        "import time\n",
        "x=0\n",
        "temp=10\n",
        "while x<=120:\n",
        "  if temp>24:\n",
        "    print(\"sıcak 🔥 \",temp,\"sıcaklık düşürülecek\")\n",
        "    temp-=1\n",
        "  elif temp<18:\n",
        "    print(\"soğuk ❄\",temp,\"sıcaklık yükseltilecek\")\n",
        "    temp+=1\n",
        "  elif temp>=18 or temp<=24:\n",
        "    print(\"iyi 💚\",temp)\n",
        "  temp+=random.randint(-3, 3)\n",
        "  x+=1\n",
        "  time.sleep(1)"
      ]
    }
  ]
}